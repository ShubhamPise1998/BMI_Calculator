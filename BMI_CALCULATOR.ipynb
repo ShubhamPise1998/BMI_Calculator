{
  "nbformat": 4,
  "nbformat_minor": 0,
  "metadata": {
    "colab": {
      "provenance": []
    },
    "kernelspec": {
      "name": "python3",
      "display_name": "Python 3"
    },
    "language_info": {
      "name": "python"
    }
  },
  "cells": [
    {
      "cell_type": "markdown",
      "source": [
        "# **BMI CALCULATOR**\n",
        "\n",
        "==> What is BMI\n",
        "\n",
        "    In the medical terms,BMI stands for Body Mass Index.\n",
        "\n",
        "    It is calculated by person’s weight in kilograms (or pounds) divided by the square of height in meter(or feet).\n",
        "\n",
        "    A high BMI can indicate high body fatness.\n",
        "\n",
        "    By using this we can analyze the fitness of our body. "
      ],
      "metadata": {
        "id": "NBXrZjln6fu7"
      }
    },
    {
      "cell_type": "code",
      "source": [
        "name=str(input(\"Enetr your name: \"))\n",
        "\n",
        "weight=float(input(\"Enter your weight in kg: \"))\n",
        "\n",
        "height=float(input(\"Enter your height in meter: \"))\n",
        "\n",
        "bmi=weight/(height**2)\n",
        "\n",
        "print(name,\"your bmi is\",bmi)\n",
        "\n",
        "if bmi<18.5:\n",
        "  print(name,\"You are underweight\")\n",
        "elif bmi>=18.5 and bmi<25:\n",
        "  print(name,\"Congrats!,You are fit\")\n",
        "elif bmi>=25:\n",
        "  print(name,\"You are overweight\")"
      ],
      "metadata": {
        "colab": {
          "base_uri": "https://localhost:8080/"
        },
        "id": "CjP1GkMA8sL1",
        "outputId": "4bea5b52-837d-48e2-f32d-7f4c03732896"
      },
      "execution_count": 10,
      "outputs": [
        {
          "output_type": "stream",
          "name": "stdout",
          "text": [
            "Enetr your name: shubham\n",
            "Enter your weight in kg: 68\n",
            "Enter your height in meter: 1.67\n",
            "shubham your bmi is 24.38237297859371\n",
            "shubham Congrats!,You are fit\n"
          ]
        }
      ]
    }
  ]
}